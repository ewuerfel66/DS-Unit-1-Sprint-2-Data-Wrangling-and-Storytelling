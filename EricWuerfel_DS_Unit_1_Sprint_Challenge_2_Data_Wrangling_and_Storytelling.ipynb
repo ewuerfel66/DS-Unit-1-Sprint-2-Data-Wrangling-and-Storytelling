{
  "nbformat": 4,
  "nbformat_minor": 0,
  "metadata": {
    "colab": {
      "name": "EricWuerfel_DS_Unit_1_Sprint_Challenge_2_Data_Wrangling_and_Storytelling.ipynb",
      "version": "0.3.2",
      "provenance": [],
      "collapsed_sections": [
        "9wIvtOss9H_i",
        "wWEU2GemX68A",
        "AZmVTeCsX9RC",
        "oK96Uj7vYjFX",
        "hlPDAFCfaF6C",
        "6J7iwMnTg8KZ",
        "UtjoIqvm9yFg",
        "5hjnMK3j90Rp",
        "Kiq56dZb92LY"
      ],
      "include_colab_link": true
    },
    "language_info": {
      "codemirror_mode": {
        "name": "ipython",
        "version": 3
      },
      "file_extension": ".py",
      "mimetype": "text/x-python",
      "name": "python",
      "nbconvert_exporter": "python",
      "pygments_lexer": "ipython3",
      "version": "3.7.1"
    },
    "kernelspec": {
      "display_name": "Python 3",
      "language": "python",
      "name": "python3"
    }
  },
  "cells": [
    {
      "cell_type": "markdown",
      "metadata": {
        "id": "view-in-github",
        "colab_type": "text"
      },
      "source": [
        "<a href=\"https://colab.research.google.com/github/ewuerfel66/DS-Unit-1-Sprint-2-Data-Wrangling-and-Storytelling/blob/master/EricWuerfel_DS_Unit_1_Sprint_Challenge_2_Data_Wrangling_and_Storytelling.ipynb\" target=\"_parent\"><img src=\"https://colab.research.google.com/assets/colab-badge.svg\" alt=\"Open In Colab\"/></a>"
      ]
    },
    {
      "cell_type": "markdown",
      "metadata": {
        "colab_type": "text",
        "id": "4yMHi_PX9hEz"
      },
      "source": [
        "# Data Science Unit 1 Sprint Challenge 2\n",
        "\n",
        "## Data Wrangling and Storytelling\n",
        "\n",
        "Taming data from its raw form into informative insights and stories."
      ]
    },
    {
      "cell_type": "markdown",
      "metadata": {
        "id": "iI7IQ6RL4cov",
        "colab_type": "text"
      },
      "source": [
        "### Imports"
      ]
    },
    {
      "cell_type": "code",
      "metadata": {
        "id": "0ybNjmci4fFS",
        "colab_type": "code",
        "colab": {}
      },
      "source": [
        "import seaborn as sns"
      ],
      "execution_count": 0,
      "outputs": []
    },
    {
      "cell_type": "markdown",
      "metadata": {
        "id": "9wIvtOss9H_i",
        "colab_type": "text"
      },
      "source": [
        "## Data Wrangling\n",
        "\n",
        "In this Sprint Challenge you will first \"wrangle\" some data from [Gapminder](https://www.gapminder.org/about-gapminder/), a Swedish non-profit co-founded by Hans Rosling. \"Gapminder produces free teaching resources making the world understandable based on reliable statistics.\"\n",
        "- [Cell phones (total), by country and year](https://raw.githubusercontent.com/open-numbers/ddf--gapminder--systema_globalis/master/ddf--datapoints--cell_phones_total--by--geo--time.csv)\n",
        "- [Population (total), by country and year](https://raw.githubusercontent.com/open-numbers/ddf--gapminder--systema_globalis/master/ddf--datapoints--population_total--by--geo--time.csv)\n",
        "- [Geo country codes](https://github.com/open-numbers/ddf--gapminder--systema_globalis/blob/master/ddf--entities--geo--country.csv)\n",
        "\n",
        "These two links have everything you need to successfully complete the first part of this sprint challenge.\n",
        "- [Pandas documentation: Working with Text Data](https://pandas.pydata.org/pandas-docs/stable/text.html) (one question)\n",
        "- [Pandas Cheat Sheet](https://github.com/pandas-dev/pandas/blob/master/doc/cheatsheet/Pandas_Cheat_Sheet.pdf) (everything else)"
      ]
    },
    {
      "cell_type": "markdown",
      "metadata": {
        "colab_type": "text",
        "id": "wWEU2GemX68A"
      },
      "source": [
        "### Part 0. Load data\n",
        "\n",
        "You don't need to add or change anything here. Just run this cell and it loads the data for you, into three dataframes."
      ]
    },
    {
      "cell_type": "code",
      "metadata": {
        "colab_type": "code",
        "id": "bxKtSi5sRQOl",
        "colab": {}
      },
      "source": [
        "import pandas as pd\n",
        "\n",
        "cell_phones = pd.read_csv('https://raw.githubusercontent.com/open-numbers/ddf--gapminder--systema_globalis/master/ddf--datapoints--cell_phones_total--by--geo--time.csv')\n",
        "\n",
        "population = pd.read_csv('https://raw.githubusercontent.com/open-numbers/ddf--gapminder--systema_globalis/master/ddf--datapoints--population_total--by--geo--time.csv')\n",
        "\n",
        "geo_country_codes = (pd.read_csv('https://raw.githubusercontent.com/open-numbers/ddf--gapminder--systema_globalis/master/ddf--entities--geo--country.csv')\n",
        "                       .rename(columns={'country': 'geo', 'name': 'country'}))"
      ],
      "execution_count": 0,
      "outputs": []
    },
    {
      "cell_type": "code",
      "metadata": {
        "id": "HmHkYHCvehC2",
        "colab_type": "code",
        "colab": {
          "base_uri": "https://localhost:8080/",
          "height": 0
        },
        "outputId": "9318c204-f24b-401f-b3e0-2a41bc0ae536"
      },
      "source": [
        "cell_phones.head()"
      ],
      "execution_count": 259,
      "outputs": [
        {
          "output_type": "execute_result",
          "data": {
            "text/html": [
              "<div>\n",
              "<style scoped>\n",
              "    .dataframe tbody tr th:only-of-type {\n",
              "        vertical-align: middle;\n",
              "    }\n",
              "\n",
              "    .dataframe tbody tr th {\n",
              "        vertical-align: top;\n",
              "    }\n",
              "\n",
              "    .dataframe thead th {\n",
              "        text-align: right;\n",
              "    }\n",
              "</style>\n",
              "<table border=\"1\" class=\"dataframe\">\n",
              "  <thead>\n",
              "    <tr style=\"text-align: right;\">\n",
              "      <th></th>\n",
              "      <th>geo</th>\n",
              "      <th>time</th>\n",
              "      <th>cell_phones_total</th>\n",
              "    </tr>\n",
              "  </thead>\n",
              "  <tbody>\n",
              "    <tr>\n",
              "      <th>0</th>\n",
              "      <td>abw</td>\n",
              "      <td>1960</td>\n",
              "      <td>0.0</td>\n",
              "    </tr>\n",
              "    <tr>\n",
              "      <th>1</th>\n",
              "      <td>abw</td>\n",
              "      <td>1965</td>\n",
              "      <td>0.0</td>\n",
              "    </tr>\n",
              "    <tr>\n",
              "      <th>2</th>\n",
              "      <td>abw</td>\n",
              "      <td>1970</td>\n",
              "      <td>0.0</td>\n",
              "    </tr>\n",
              "    <tr>\n",
              "      <th>3</th>\n",
              "      <td>abw</td>\n",
              "      <td>1975</td>\n",
              "      <td>0.0</td>\n",
              "    </tr>\n",
              "    <tr>\n",
              "      <th>4</th>\n",
              "      <td>abw</td>\n",
              "      <td>1976</td>\n",
              "      <td>0.0</td>\n",
              "    </tr>\n",
              "  </tbody>\n",
              "</table>\n",
              "</div>"
            ],
            "text/plain": [
              "   geo  time  cell_phones_total\n",
              "0  abw  1960                0.0\n",
              "1  abw  1965                0.0\n",
              "2  abw  1970                0.0\n",
              "3  abw  1975                0.0\n",
              "4  abw  1976                0.0"
            ]
          },
          "metadata": {
            "tags": []
          },
          "execution_count": 259
        }
      ]
    },
    {
      "cell_type": "code",
      "metadata": {
        "id": "bKOmz9wiehFl",
        "colab_type": "code",
        "colab": {
          "base_uri": "https://localhost:8080/",
          "height": 0
        },
        "outputId": "c4caf2f1-479d-4910-a061-fc91a861afad"
      },
      "source": [
        "population.head()"
      ],
      "execution_count": 260,
      "outputs": [
        {
          "output_type": "execute_result",
          "data": {
            "text/html": [
              "<div>\n",
              "<style scoped>\n",
              "    .dataframe tbody tr th:only-of-type {\n",
              "        vertical-align: middle;\n",
              "    }\n",
              "\n",
              "    .dataframe tbody tr th {\n",
              "        vertical-align: top;\n",
              "    }\n",
              "\n",
              "    .dataframe thead th {\n",
              "        text-align: right;\n",
              "    }\n",
              "</style>\n",
              "<table border=\"1\" class=\"dataframe\">\n",
              "  <thead>\n",
              "    <tr style=\"text-align: right;\">\n",
              "      <th></th>\n",
              "      <th>geo</th>\n",
              "      <th>time</th>\n",
              "      <th>population_total</th>\n",
              "    </tr>\n",
              "  </thead>\n",
              "  <tbody>\n",
              "    <tr>\n",
              "      <th>0</th>\n",
              "      <td>afg</td>\n",
              "      <td>1800</td>\n",
              "      <td>3280000</td>\n",
              "    </tr>\n",
              "    <tr>\n",
              "      <th>1</th>\n",
              "      <td>afg</td>\n",
              "      <td>1801</td>\n",
              "      <td>3280000</td>\n",
              "    </tr>\n",
              "    <tr>\n",
              "      <th>2</th>\n",
              "      <td>afg</td>\n",
              "      <td>1802</td>\n",
              "      <td>3280000</td>\n",
              "    </tr>\n",
              "    <tr>\n",
              "      <th>3</th>\n",
              "      <td>afg</td>\n",
              "      <td>1803</td>\n",
              "      <td>3280000</td>\n",
              "    </tr>\n",
              "    <tr>\n",
              "      <th>4</th>\n",
              "      <td>afg</td>\n",
              "      <td>1804</td>\n",
              "      <td>3280000</td>\n",
              "    </tr>\n",
              "  </tbody>\n",
              "</table>\n",
              "</div>"
            ],
            "text/plain": [
              "   geo  time  population_total\n",
              "0  afg  1800           3280000\n",
              "1  afg  1801           3280000\n",
              "2  afg  1802           3280000\n",
              "3  afg  1803           3280000\n",
              "4  afg  1804           3280000"
            ]
          },
          "metadata": {
            "tags": []
          },
          "execution_count": 260
        }
      ]
    },
    {
      "cell_type": "code",
      "metadata": {
        "id": "Be0bzDTzehJF",
        "colab_type": "code",
        "colab": {
          "base_uri": "https://localhost:8080/",
          "height": 0
        },
        "outputId": "09194807-11a2-40b7-e132-4f178d9e71fb"
      },
      "source": [
        "geo_country_codes.head()"
      ],
      "execution_count": 261,
      "outputs": [
        {
          "output_type": "execute_result",
          "data": {
            "text/html": [
              "<div>\n",
              "<style scoped>\n",
              "    .dataframe tbody tr th:only-of-type {\n",
              "        vertical-align: middle;\n",
              "    }\n",
              "\n",
              "    .dataframe tbody tr th {\n",
              "        vertical-align: top;\n",
              "    }\n",
              "\n",
              "    .dataframe thead th {\n",
              "        text-align: right;\n",
              "    }\n",
              "</style>\n",
              "<table border=\"1\" class=\"dataframe\">\n",
              "  <thead>\n",
              "    <tr style=\"text-align: right;\">\n",
              "      <th></th>\n",
              "      <th>geo</th>\n",
              "      <th>alt_5</th>\n",
              "      <th>alternative_1</th>\n",
              "      <th>alternative_2</th>\n",
              "      <th>alternative_3</th>\n",
              "      <th>alternative_4_cdiac</th>\n",
              "      <th>arb1</th>\n",
              "      <th>arb2</th>\n",
              "      <th>arb3</th>\n",
              "      <th>arb4</th>\n",
              "      <th>arb5</th>\n",
              "      <th>arb6</th>\n",
              "      <th>g77_and_oecd_countries</th>\n",
              "      <th>gapminder_list</th>\n",
              "      <th>god_id</th>\n",
              "      <th>gwid</th>\n",
              "      <th>income_groups</th>\n",
              "      <th>is--country</th>\n",
              "      <th>iso3166_1_alpha2</th>\n",
              "      <th>iso3166_1_alpha3</th>\n",
              "      <th>iso3166_1_numeric</th>\n",
              "      <th>iso3166_2</th>\n",
              "      <th>landlocked</th>\n",
              "      <th>latitude</th>\n",
              "      <th>longitude</th>\n",
              "      <th>main_religion_2008</th>\n",
              "      <th>country</th>\n",
              "      <th>pandg</th>\n",
              "      <th>un_state</th>\n",
              "      <th>unicode_region_subtag</th>\n",
              "      <th>upper_case_name</th>\n",
              "      <th>world_4region</th>\n",
              "      <th>world_6region</th>\n",
              "    </tr>\n",
              "  </thead>\n",
              "  <tbody>\n",
              "    <tr>\n",
              "      <th>0</th>\n",
              "      <td>abkh</td>\n",
              "      <td>NaN</td>\n",
              "      <td>NaN</td>\n",
              "      <td>NaN</td>\n",
              "      <td>NaN</td>\n",
              "      <td>NaN</td>\n",
              "      <td>NaN</td>\n",
              "      <td>NaN</td>\n",
              "      <td>NaN</td>\n",
              "      <td>NaN</td>\n",
              "      <td>NaN</td>\n",
              "      <td>NaN</td>\n",
              "      <td>others</td>\n",
              "      <td>Abkhazia</td>\n",
              "      <td>GE-AB</td>\n",
              "      <td>i0</td>\n",
              "      <td>NaN</td>\n",
              "      <td>True</td>\n",
              "      <td>NaN</td>\n",
              "      <td>NaN</td>\n",
              "      <td>nan</td>\n",
              "      <td>NaN</td>\n",
              "      <td>NaN</td>\n",
              "      <td>nan</td>\n",
              "      <td>nan</td>\n",
              "      <td>NaN</td>\n",
              "      <td>Abkhazia</td>\n",
              "      <td>NaN</td>\n",
              "      <td>False</td>\n",
              "      <td>NaN</td>\n",
              "      <td>NaN</td>\n",
              "      <td>europe</td>\n",
              "      <td>europe_central_asia</td>\n",
              "    </tr>\n",
              "    <tr>\n",
              "      <th>1</th>\n",
              "      <td>abw</td>\n",
              "      <td>NaN</td>\n",
              "      <td>NaN</td>\n",
              "      <td>NaN</td>\n",
              "      <td>NaN</td>\n",
              "      <td>Aruba</td>\n",
              "      <td>NaN</td>\n",
              "      <td>NaN</td>\n",
              "      <td>NaN</td>\n",
              "      <td>NaN</td>\n",
              "      <td>NaN</td>\n",
              "      <td>NaN</td>\n",
              "      <td>others</td>\n",
              "      <td>Aruba</td>\n",
              "      <td>AW</td>\n",
              "      <td>i12</td>\n",
              "      <td>high_income</td>\n",
              "      <td>True</td>\n",
              "      <td>AW</td>\n",
              "      <td>ABW</td>\n",
              "      <td>533.0</td>\n",
              "      <td>NaN</td>\n",
              "      <td>coastline</td>\n",
              "      <td>12.5</td>\n",
              "      <td>-69.96667</td>\n",
              "      <td>christian</td>\n",
              "      <td>Aruba</td>\n",
              "      <td>NaN</td>\n",
              "      <td>False</td>\n",
              "      <td>AW</td>\n",
              "      <td>ARUBA</td>\n",
              "      <td>americas</td>\n",
              "      <td>america</td>\n",
              "    </tr>\n",
              "    <tr>\n",
              "      <th>2</th>\n",
              "      <td>afg</td>\n",
              "      <td>NaN</td>\n",
              "      <td>Islamic Republic of Afghanistan</td>\n",
              "      <td>NaN</td>\n",
              "      <td>NaN</td>\n",
              "      <td>Afghanistan</td>\n",
              "      <td>NaN</td>\n",
              "      <td>NaN</td>\n",
              "      <td>NaN</td>\n",
              "      <td>NaN</td>\n",
              "      <td>NaN</td>\n",
              "      <td>NaN</td>\n",
              "      <td>g77</td>\n",
              "      <td>Afghanistan</td>\n",
              "      <td>AF</td>\n",
              "      <td>i1</td>\n",
              "      <td>low_income</td>\n",
              "      <td>True</td>\n",
              "      <td>AF</td>\n",
              "      <td>AFG</td>\n",
              "      <td>4.0</td>\n",
              "      <td>NaN</td>\n",
              "      <td>landlocked</td>\n",
              "      <td>33.0</td>\n",
              "      <td>66.0</td>\n",
              "      <td>muslim</td>\n",
              "      <td>Afghanistan</td>\n",
              "      <td>AFGHANISTAN</td>\n",
              "      <td>True</td>\n",
              "      <td>AF</td>\n",
              "      <td>AFGHANISTAN</td>\n",
              "      <td>asia</td>\n",
              "      <td>south_asia</td>\n",
              "    </tr>\n",
              "    <tr>\n",
              "      <th>3</th>\n",
              "      <td>ago</td>\n",
              "      <td>NaN</td>\n",
              "      <td>NaN</td>\n",
              "      <td>NaN</td>\n",
              "      <td>NaN</td>\n",
              "      <td>Angola</td>\n",
              "      <td>NaN</td>\n",
              "      <td>NaN</td>\n",
              "      <td>NaN</td>\n",
              "      <td>NaN</td>\n",
              "      <td>NaN</td>\n",
              "      <td>NaN</td>\n",
              "      <td>g77</td>\n",
              "      <td>Angola</td>\n",
              "      <td>AO</td>\n",
              "      <td>i7</td>\n",
              "      <td>upper_middle_income</td>\n",
              "      <td>True</td>\n",
              "      <td>AO</td>\n",
              "      <td>AGO</td>\n",
              "      <td>24.0</td>\n",
              "      <td>NaN</td>\n",
              "      <td>coastline</td>\n",
              "      <td>-12.5</td>\n",
              "      <td>18.5</td>\n",
              "      <td>christian</td>\n",
              "      <td>Angola</td>\n",
              "      <td>ANGOLA</td>\n",
              "      <td>True</td>\n",
              "      <td>AO</td>\n",
              "      <td>ANGOLA</td>\n",
              "      <td>africa</td>\n",
              "      <td>sub_saharan_africa</td>\n",
              "    </tr>\n",
              "    <tr>\n",
              "      <th>4</th>\n",
              "      <td>aia</td>\n",
              "      <td>NaN</td>\n",
              "      <td>NaN</td>\n",
              "      <td>NaN</td>\n",
              "      <td>NaN</td>\n",
              "      <td>NaN</td>\n",
              "      <td>NaN</td>\n",
              "      <td>NaN</td>\n",
              "      <td>NaN</td>\n",
              "      <td>NaN</td>\n",
              "      <td>NaN</td>\n",
              "      <td>NaN</td>\n",
              "      <td>others</td>\n",
              "      <td>Anguilla</td>\n",
              "      <td>AI</td>\n",
              "      <td>i8</td>\n",
              "      <td>NaN</td>\n",
              "      <td>True</td>\n",
              "      <td>AI</td>\n",
              "      <td>AIA</td>\n",
              "      <td>660.0</td>\n",
              "      <td>NaN</td>\n",
              "      <td>coastline</td>\n",
              "      <td>18.21667</td>\n",
              "      <td>-63.05</td>\n",
              "      <td>christian</td>\n",
              "      <td>Anguilla</td>\n",
              "      <td>NaN</td>\n",
              "      <td>False</td>\n",
              "      <td>AI</td>\n",
              "      <td>ANGUILLA</td>\n",
              "      <td>americas</td>\n",
              "      <td>america</td>\n",
              "    </tr>\n",
              "  </tbody>\n",
              "</table>\n",
              "</div>"
            ],
            "text/plain": [
              "    geo alt_5  ... world_4region        world_6region\n",
              "0  abkh   NaN  ...        europe  europe_central_asia\n",
              "1   abw   NaN  ...      americas              america\n",
              "2   afg   NaN  ...          asia           south_asia\n",
              "3   ago   NaN  ...        africa   sub_saharan_africa\n",
              "4   aia   NaN  ...      americas              america\n",
              "\n",
              "[5 rows x 33 columns]"
            ]
          },
          "metadata": {
            "tags": []
          },
          "execution_count": 261
        }
      ]
    },
    {
      "cell_type": "markdown",
      "metadata": {
        "colab_type": "text",
        "id": "AZmVTeCsX9RC"
      },
      "source": [
        "### Part 1. Join data"
      ]
    },
    {
      "cell_type": "markdown",
      "metadata": {
        "colab_type": "text",
        "id": "GLzX58u4SfEy"
      },
      "source": [
        "First, join the `cell_phones` and `population` dataframes (with an inner join on `geo` and `time`).\n",
        "\n",
        "The resulting dataframe's shape should be: (8590, 4)"
      ]
    },
    {
      "cell_type": "code",
      "metadata": {
        "colab_type": "code",
        "id": "GVV7Hnj4SXBa",
        "colab": {}
      },
      "source": [
        "df = pd.merge(cell_phones, population, how='inner', on=['geo', 'time'])"
      ],
      "execution_count": 0,
      "outputs": []
    },
    {
      "cell_type": "code",
      "metadata": {
        "id": "TQp3W_6OesUe",
        "colab_type": "code",
        "colab": {
          "base_uri": "https://localhost:8080/",
          "height": 0
        },
        "outputId": "7dc1a2ac-93c5-4661-fa0a-53092941bcf2"
      },
      "source": [
        "df.shape"
      ],
      "execution_count": 263,
      "outputs": [
        {
          "output_type": "execute_result",
          "data": {
            "text/plain": [
              "(8590, 4)"
            ]
          },
          "metadata": {
            "tags": []
          },
          "execution_count": 263
        }
      ]
    },
    {
      "cell_type": "code",
      "metadata": {
        "id": "O1J3WggYe3fP",
        "colab_type": "code",
        "colab": {
          "base_uri": "https://localhost:8080/",
          "height": 0
        },
        "outputId": "14422ae3-3873-4f6f-c43e-4b6d77207ef7"
      },
      "source": [
        "df.head()"
      ],
      "execution_count": 264,
      "outputs": [
        {
          "output_type": "execute_result",
          "data": {
            "text/html": [
              "<div>\n",
              "<style scoped>\n",
              "    .dataframe tbody tr th:only-of-type {\n",
              "        vertical-align: middle;\n",
              "    }\n",
              "\n",
              "    .dataframe tbody tr th {\n",
              "        vertical-align: top;\n",
              "    }\n",
              "\n",
              "    .dataframe thead th {\n",
              "        text-align: right;\n",
              "    }\n",
              "</style>\n",
              "<table border=\"1\" class=\"dataframe\">\n",
              "  <thead>\n",
              "    <tr style=\"text-align: right;\">\n",
              "      <th></th>\n",
              "      <th>geo</th>\n",
              "      <th>time</th>\n",
              "      <th>cell_phones_total</th>\n",
              "      <th>population_total</th>\n",
              "    </tr>\n",
              "  </thead>\n",
              "  <tbody>\n",
              "    <tr>\n",
              "      <th>0</th>\n",
              "      <td>afg</td>\n",
              "      <td>1960</td>\n",
              "      <td>0.0</td>\n",
              "      <td>8996351</td>\n",
              "    </tr>\n",
              "    <tr>\n",
              "      <th>1</th>\n",
              "      <td>afg</td>\n",
              "      <td>1965</td>\n",
              "      <td>0.0</td>\n",
              "      <td>9938414</td>\n",
              "    </tr>\n",
              "    <tr>\n",
              "      <th>2</th>\n",
              "      <td>afg</td>\n",
              "      <td>1970</td>\n",
              "      <td>0.0</td>\n",
              "      <td>11126123</td>\n",
              "    </tr>\n",
              "    <tr>\n",
              "      <th>3</th>\n",
              "      <td>afg</td>\n",
              "      <td>1975</td>\n",
              "      <td>0.0</td>\n",
              "      <td>12590286</td>\n",
              "    </tr>\n",
              "    <tr>\n",
              "      <th>4</th>\n",
              "      <td>afg</td>\n",
              "      <td>1976</td>\n",
              "      <td>0.0</td>\n",
              "      <td>12840299</td>\n",
              "    </tr>\n",
              "  </tbody>\n",
              "</table>\n",
              "</div>"
            ],
            "text/plain": [
              "   geo  time  cell_phones_total  population_total\n",
              "0  afg  1960                0.0           8996351\n",
              "1  afg  1965                0.0           9938414\n",
              "2  afg  1970                0.0          11126123\n",
              "3  afg  1975                0.0          12590286\n",
              "4  afg  1976                0.0          12840299"
            ]
          },
          "metadata": {
            "tags": []
          },
          "execution_count": 264
        }
      ]
    },
    {
      "cell_type": "markdown",
      "metadata": {
        "colab_type": "text",
        "id": "xsXpDbwwW241"
      },
      "source": [
        "Then, select the `geo` and `country` columns from the `geo_country_codes` dataframe, and join with your population and cell phone data.\n",
        "\n",
        "The resulting dataframe's shape should be: (8590, 5)"
      ]
    },
    {
      "cell_type": "code",
      "metadata": {
        "colab_type": "code",
        "id": "Q2LaZta_W2CE",
        "colab": {}
      },
      "source": [
        "country_codes = geo_country_codes[['geo', 'country']]"
      ],
      "execution_count": 0,
      "outputs": []
    },
    {
      "cell_type": "code",
      "metadata": {
        "id": "6V_hW4etfkoB",
        "colab_type": "code",
        "colab": {}
      },
      "source": [
        "df = pd.merge(df, country_codes, left_on=\"geo\", right_on=\"geo\")"
      ],
      "execution_count": 0,
      "outputs": []
    },
    {
      "cell_type": "code",
      "metadata": {
        "id": "LwqtZ6kt0XZ5",
        "colab_type": "code",
        "colab": {
          "base_uri": "https://localhost:8080/",
          "height": 0
        },
        "outputId": "0c701612-3386-413e-de36-fb98e19d9d13"
      },
      "source": [
        "df.shape"
      ],
      "execution_count": 267,
      "outputs": [
        {
          "output_type": "execute_result",
          "data": {
            "text/plain": [
              "(8590, 5)"
            ]
          },
          "metadata": {
            "tags": []
          },
          "execution_count": 267
        }
      ]
    },
    {
      "cell_type": "markdown",
      "metadata": {
        "id": "LxCJMpbk8jy6",
        "colab_type": "text"
      },
      "source": [
        "***Optional bonus for Part 1: Take initiative to join more data.***"
      ]
    },
    {
      "cell_type": "markdown",
      "metadata": {
        "colab_type": "text",
        "id": "oK96Uj7vYjFX"
      },
      "source": [
        "### Part 2. Make features"
      ]
    },
    {
      "cell_type": "markdown",
      "metadata": {
        "colab_type": "text",
        "id": "AD2fBNrOYzCG"
      },
      "source": [
        "Calculate the number of cell phones per person, and add this column onto your dataframe.\n",
        "\n",
        "(You've calculated correctly if you get 1.220 cell phones per person in the United States in 2017.)"
      ]
    },
    {
      "cell_type": "code",
      "metadata": {
        "colab_type": "code",
        "id": "wXI9nQthYnFK",
        "colab": {}
      },
      "source": [
        "df['cells_per_person'] = True"
      ],
      "execution_count": 0,
      "outputs": []
    },
    {
      "cell_type": "code",
      "metadata": {
        "id": "kPE-vadjgrCJ",
        "colab_type": "code",
        "colab": {}
      },
      "source": [
        "df['cells_per_person'] = df['cell_phones_total'] / df['population_total']"
      ],
      "execution_count": 0,
      "outputs": []
    },
    {
      "cell_type": "code",
      "metadata": {
        "id": "zhaDGt31g-oq",
        "colab_type": "code",
        "colab": {
          "base_uri": "https://localhost:8080/",
          "height": 0
        },
        "outputId": "2e92a85d-3985-438b-b48e-490f392436f3"
      },
      "source": [
        "df[df['country'] == \"United States\"].tail()"
      ],
      "execution_count": 270,
      "outputs": [
        {
          "output_type": "execute_result",
          "data": {
            "text/html": [
              "<div>\n",
              "<style scoped>\n",
              "    .dataframe tbody tr th:only-of-type {\n",
              "        vertical-align: middle;\n",
              "    }\n",
              "\n",
              "    .dataframe tbody tr th {\n",
              "        vertical-align: top;\n",
              "    }\n",
              "\n",
              "    .dataframe thead th {\n",
              "        text-align: right;\n",
              "    }\n",
              "</style>\n",
              "<table border=\"1\" class=\"dataframe\">\n",
              "  <thead>\n",
              "    <tr style=\"text-align: right;\">\n",
              "      <th></th>\n",
              "      <th>geo</th>\n",
              "      <th>time</th>\n",
              "      <th>cell_phones_total</th>\n",
              "      <th>population_total</th>\n",
              "      <th>country</th>\n",
              "      <th>cells_per_person</th>\n",
              "    </tr>\n",
              "  </thead>\n",
              "  <tbody>\n",
              "    <tr>\n",
              "      <th>8130</th>\n",
              "      <td>usa</td>\n",
              "      <td>2013</td>\n",
              "      <td>310,698,000.0</td>\n",
              "      <td>315536676</td>\n",
              "      <td>United States</td>\n",
              "      <td>0.9846652501340288</td>\n",
              "    </tr>\n",
              "    <tr>\n",
              "      <th>8131</th>\n",
              "      <td>usa</td>\n",
              "      <td>2014</td>\n",
              "      <td>355,500,000.0</td>\n",
              "      <td>317718779</td>\n",
              "      <td>United States</td>\n",
              "      <td>1.118914031833164</td>\n",
              "    </tr>\n",
              "    <tr>\n",
              "      <th>8132</th>\n",
              "      <td>usa</td>\n",
              "      <td>2015</td>\n",
              "      <td>382,307,000.0</td>\n",
              "      <td>319929162</td>\n",
              "      <td>United States</td>\n",
              "      <td>1.1949739048796058</td>\n",
              "    </tr>\n",
              "    <tr>\n",
              "      <th>8133</th>\n",
              "      <td>usa</td>\n",
              "      <td>2016</td>\n",
              "      <td>395,881,000.0</td>\n",
              "      <td>322179605</td>\n",
              "      <td>United States</td>\n",
              "      <td>1.228758722948959</td>\n",
              "    </tr>\n",
              "    <tr>\n",
              "      <th>8134</th>\n",
              "      <td>usa</td>\n",
              "      <td>2017</td>\n",
              "      <td>395,881,000.0</td>\n",
              "      <td>324459463</td>\n",
              "      <td>United States</td>\n",
              "      <td>1.2201246847283354</td>\n",
              "    </tr>\n",
              "  </tbody>\n",
              "</table>\n",
              "</div>"
            ],
            "text/plain": [
              "      geo  time  ...        country   cells_per_person\n",
              "8130  usa  2013  ...  United States 0.9846652501340288\n",
              "8131  usa  2014  ...  United States  1.118914031833164\n",
              "8132  usa  2015  ...  United States 1.1949739048796058\n",
              "8133  usa  2016  ...  United States  1.228758722948959\n",
              "8134  usa  2017  ...  United States 1.2201246847283354\n",
              "\n",
              "[5 rows x 6 columns]"
            ]
          },
          "metadata": {
            "tags": []
          },
          "execution_count": 270
        }
      ]
    },
    {
      "cell_type": "markdown",
      "metadata": {
        "colab_type": "text",
        "id": "S3QFdsnRZMH6"
      },
      "source": [
        "Modify the `geo` column to make the geo codes uppercase instead of lowercase."
      ]
    },
    {
      "cell_type": "code",
      "metadata": {
        "colab_type": "code",
        "id": "93ADij8_YkOq",
        "colab": {}
      },
      "source": [
        "df['geo'] = df['geo'].str.upper()"
      ],
      "execution_count": 0,
      "outputs": []
    },
    {
      "cell_type": "code",
      "metadata": {
        "id": "Ena0aKtDhWov",
        "colab_type": "code",
        "colab": {
          "base_uri": "https://localhost:8080/",
          "height": 0
        },
        "outputId": "db20d1a2-180f-41c5-e036-1924d3a4833e"
      },
      "source": [
        "df[df['country'] == \"United States\"].tail()"
      ],
      "execution_count": 272,
      "outputs": [
        {
          "output_type": "execute_result",
          "data": {
            "text/html": [
              "<div>\n",
              "<style scoped>\n",
              "    .dataframe tbody tr th:only-of-type {\n",
              "        vertical-align: middle;\n",
              "    }\n",
              "\n",
              "    .dataframe tbody tr th {\n",
              "        vertical-align: top;\n",
              "    }\n",
              "\n",
              "    .dataframe thead th {\n",
              "        text-align: right;\n",
              "    }\n",
              "</style>\n",
              "<table border=\"1\" class=\"dataframe\">\n",
              "  <thead>\n",
              "    <tr style=\"text-align: right;\">\n",
              "      <th></th>\n",
              "      <th>geo</th>\n",
              "      <th>time</th>\n",
              "      <th>cell_phones_total</th>\n",
              "      <th>population_total</th>\n",
              "      <th>country</th>\n",
              "      <th>cells_per_person</th>\n",
              "    </tr>\n",
              "  </thead>\n",
              "  <tbody>\n",
              "    <tr>\n",
              "      <th>8130</th>\n",
              "      <td>USA</td>\n",
              "      <td>2013</td>\n",
              "      <td>310,698,000.0</td>\n",
              "      <td>315536676</td>\n",
              "      <td>United States</td>\n",
              "      <td>0.9846652501340288</td>\n",
              "    </tr>\n",
              "    <tr>\n",
              "      <th>8131</th>\n",
              "      <td>USA</td>\n",
              "      <td>2014</td>\n",
              "      <td>355,500,000.0</td>\n",
              "      <td>317718779</td>\n",
              "      <td>United States</td>\n",
              "      <td>1.118914031833164</td>\n",
              "    </tr>\n",
              "    <tr>\n",
              "      <th>8132</th>\n",
              "      <td>USA</td>\n",
              "      <td>2015</td>\n",
              "      <td>382,307,000.0</td>\n",
              "      <td>319929162</td>\n",
              "      <td>United States</td>\n",
              "      <td>1.1949739048796058</td>\n",
              "    </tr>\n",
              "    <tr>\n",
              "      <th>8133</th>\n",
              "      <td>USA</td>\n",
              "      <td>2016</td>\n",
              "      <td>395,881,000.0</td>\n",
              "      <td>322179605</td>\n",
              "      <td>United States</td>\n",
              "      <td>1.228758722948959</td>\n",
              "    </tr>\n",
              "    <tr>\n",
              "      <th>8134</th>\n",
              "      <td>USA</td>\n",
              "      <td>2017</td>\n",
              "      <td>395,881,000.0</td>\n",
              "      <td>324459463</td>\n",
              "      <td>United States</td>\n",
              "      <td>1.2201246847283354</td>\n",
              "    </tr>\n",
              "  </tbody>\n",
              "</table>\n",
              "</div>"
            ],
            "text/plain": [
              "      geo  time  ...        country   cells_per_person\n",
              "8130  USA  2013  ...  United States 0.9846652501340288\n",
              "8131  USA  2014  ...  United States  1.118914031833164\n",
              "8132  USA  2015  ...  United States 1.1949739048796058\n",
              "8133  USA  2016  ...  United States  1.228758722948959\n",
              "8134  USA  2017  ...  United States 1.2201246847283354\n",
              "\n",
              "[5 rows x 6 columns]"
            ]
          },
          "metadata": {
            "tags": []
          },
          "execution_count": 272
        }
      ]
    },
    {
      "cell_type": "markdown",
      "metadata": {
        "id": "cQR5RhDa8jzO",
        "colab_type": "text"
      },
      "source": [
        "***Optional bonus for Part 2: Take initiative to make more features.***"
      ]
    },
    {
      "cell_type": "markdown",
      "metadata": {
        "colab_type": "text",
        "id": "hlPDAFCfaF6C"
      },
      "source": [
        "### Part 3. Process data"
      ]
    },
    {
      "cell_type": "markdown",
      "metadata": {
        "colab_type": "text",
        "id": "k-pudNWve2SQ"
      },
      "source": [
        "Use the describe function, to describe your dataframe's numeric columns, and then its non-numeric columns.\n",
        "\n",
        "(You'll see the time period ranges from 1960 to 2017, and there are 195 unique countries represented.)"
      ]
    },
    {
      "cell_type": "markdown",
      "metadata": {
        "id": "uyrEySnQw2O1",
        "colab_type": "text"
      },
      "source": [
        "#### Numeric"
      ]
    },
    {
      "cell_type": "code",
      "metadata": {
        "colab_type": "code",
        "id": "g26yemKre2Cu",
        "colab": {
          "base_uri": "https://localhost:8080/",
          "height": 0
        },
        "outputId": "b3c5779e-89ec-4c95-9dad-018c8cb23324"
      },
      "source": [
        "df.describe(include=np.number)"
      ],
      "execution_count": 273,
      "outputs": [
        {
          "output_type": "execute_result",
          "data": {
            "text/html": [
              "<div>\n",
              "<style scoped>\n",
              "    .dataframe tbody tr th:only-of-type {\n",
              "        vertical-align: middle;\n",
              "    }\n",
              "\n",
              "    .dataframe tbody tr th {\n",
              "        vertical-align: top;\n",
              "    }\n",
              "\n",
              "    .dataframe thead th {\n",
              "        text-align: right;\n",
              "    }\n",
              "</style>\n",
              "<table border=\"1\" class=\"dataframe\">\n",
              "  <thead>\n",
              "    <tr style=\"text-align: right;\">\n",
              "      <th></th>\n",
              "      <th>time</th>\n",
              "      <th>cell_phones_total</th>\n",
              "      <th>population_total</th>\n",
              "      <th>cells_per_person</th>\n",
              "    </tr>\n",
              "  </thead>\n",
              "  <tbody>\n",
              "    <tr>\n",
              "      <th>count</th>\n",
              "      <td>8,590.0</td>\n",
              "      <td>8,590.0</td>\n",
              "      <td>8,590.0</td>\n",
              "      <td>8,590.0</td>\n",
              "    </tr>\n",
              "    <tr>\n",
              "      <th>mean</th>\n",
              "      <td>1,994.1934807916182</td>\n",
              "      <td>9,004,949.642905472</td>\n",
              "      <td>29,838,230.581722934</td>\n",
              "      <td>0.2796385558059151</td>\n",
              "    </tr>\n",
              "    <tr>\n",
              "      <th>std</th>\n",
              "      <td>14.257974607310302</td>\n",
              "      <td>55,734,084.872179635</td>\n",
              "      <td>116,128,377.47477299</td>\n",
              "      <td>0.454246656214052</td>\n",
              "    </tr>\n",
              "    <tr>\n",
              "      <th>min</th>\n",
              "      <td>1,960.0</td>\n",
              "      <td>0.0</td>\n",
              "      <td>4,433.0</td>\n",
              "      <td>0.0</td>\n",
              "    </tr>\n",
              "    <tr>\n",
              "      <th>25%</th>\n",
              "      <td>1,983.0</td>\n",
              "      <td>0.0</td>\n",
              "      <td>1,456,148.0</td>\n",
              "      <td>0.0</td>\n",
              "    </tr>\n",
              "    <tr>\n",
              "      <th>50%</th>\n",
              "      <td>1,995.0</td>\n",
              "      <td>6,200.0</td>\n",
              "      <td>5,725,062.5</td>\n",
              "      <td>0.0015636266438163813</td>\n",
              "    </tr>\n",
              "    <tr>\n",
              "      <th>75%</th>\n",
              "      <td>2,006.0</td>\n",
              "      <td>1,697,652.0</td>\n",
              "      <td>18,105,812.0</td>\n",
              "      <td>0.4611491855201403</td>\n",
              "    </tr>\n",
              "    <tr>\n",
              "      <th>max</th>\n",
              "      <td>2,017.0</td>\n",
              "      <td>1,474,097,000.0</td>\n",
              "      <td>1,409,517,397.0</td>\n",
              "      <td>2.490242818521353</td>\n",
              "    </tr>\n",
              "  </tbody>\n",
              "</table>\n",
              "</div>"
            ],
            "text/plain": [
              "                     time  ...      cells_per_person\n",
              "count             8,590.0  ...               8,590.0\n",
              "mean  1,994.1934807916182  ...    0.2796385558059151\n",
              "std    14.257974607310302  ...     0.454246656214052\n",
              "min               1,960.0  ...                   0.0\n",
              "25%               1,983.0  ...                   0.0\n",
              "50%               1,995.0  ... 0.0015636266438163813\n",
              "75%               2,006.0  ...    0.4611491855201403\n",
              "max               2,017.0  ...     2.490242818521353\n",
              "\n",
              "[8 rows x 4 columns]"
            ]
          },
          "metadata": {
            "tags": []
          },
          "execution_count": 273
        }
      ]
    },
    {
      "cell_type": "markdown",
      "metadata": {
        "id": "xuIkjZhjw5Fj",
        "colab_type": "text"
      },
      "source": [
        "#### Non-Numeric"
      ]
    },
    {
      "cell_type": "code",
      "metadata": {
        "id": "XGV-umujiZhT",
        "colab_type": "code",
        "colab": {
          "base_uri": "https://localhost:8080/",
          "height": 0
        },
        "outputId": "a84a1f38-ca76-4790-ae60-33998b317686"
      },
      "source": [
        "df.describe(exclude=np.number)"
      ],
      "execution_count": 274,
      "outputs": [
        {
          "output_type": "execute_result",
          "data": {
            "text/html": [
              "<div>\n",
              "<style scoped>\n",
              "    .dataframe tbody tr th:only-of-type {\n",
              "        vertical-align: middle;\n",
              "    }\n",
              "\n",
              "    .dataframe tbody tr th {\n",
              "        vertical-align: top;\n",
              "    }\n",
              "\n",
              "    .dataframe thead th {\n",
              "        text-align: right;\n",
              "    }\n",
              "</style>\n",
              "<table border=\"1\" class=\"dataframe\">\n",
              "  <thead>\n",
              "    <tr style=\"text-align: right;\">\n",
              "      <th></th>\n",
              "      <th>geo</th>\n",
              "      <th>country</th>\n",
              "    </tr>\n",
              "  </thead>\n",
              "  <tbody>\n",
              "    <tr>\n",
              "      <th>count</th>\n",
              "      <td>8590</td>\n",
              "      <td>8590</td>\n",
              "    </tr>\n",
              "    <tr>\n",
              "      <th>unique</th>\n",
              "      <td>195</td>\n",
              "      <td>195</td>\n",
              "    </tr>\n",
              "    <tr>\n",
              "      <th>top</th>\n",
              "      <td>NOR</td>\n",
              "      <td>Guyana</td>\n",
              "    </tr>\n",
              "    <tr>\n",
              "      <th>freq</th>\n",
              "      <td>46</td>\n",
              "      <td>46</td>\n",
              "    </tr>\n",
              "  </tbody>\n",
              "</table>\n",
              "</div>"
            ],
            "text/plain": [
              "         geo country\n",
              "count   8590    8590\n",
              "unique   195     195\n",
              "top      NOR  Guyana\n",
              "freq      46      46"
            ]
          },
          "metadata": {
            "tags": []
          },
          "execution_count": 274
        }
      ]
    },
    {
      "cell_type": "markdown",
      "metadata": {
        "id": "-69v4bYo0nBd",
        "colab_type": "text"
      },
      "source": [
        "#### Question #1"
      ]
    },
    {
      "cell_type": "markdown",
      "metadata": {
        "colab_type": "text",
        "id": "zALg-RrYaLcI"
      },
      "source": [
        "In 2017, what were the top 5 countries with the most cell phones total?\n",
        "\n",
        "Your list of countries should have these totals:\n",
        "\n",
        "| country | cell phones total |\n",
        "|:-------:|:-----------------:|\n",
        "|    ?    |     1,474,097,000 |\n",
        "|    ?    |     1,168,902,277 |\n",
        "|    ?    |       458,923,202 |\n",
        "|    ?    |       395,881,000 |\n",
        "|    ?    |       236,488,548 |\n",
        "\n"
      ]
    },
    {
      "cell_type": "code",
      "metadata": {
        "id": "Fq6BY5iFjKhS",
        "colab_type": "code",
        "colab": {}
      },
      "source": [
        "df_2017 = df[df['time'] == 2017]"
      ],
      "execution_count": 0,
      "outputs": []
    },
    {
      "cell_type": "code",
      "metadata": {
        "colab_type": "code",
        "id": "JdlWvezHaZxD",
        "outputId": "3a4c2a64-8c1c-43c9-f487-9bf7f002790e",
        "colab": {
          "base_uri": "https://localhost:8080/",
          "height": 0
        }
      },
      "source": [
        "df_2017.sort_values(by=\"cell_phones_total\", ascending=False).head()"
      ],
      "execution_count": 276,
      "outputs": [
        {
          "output_type": "execute_result",
          "data": {
            "text/html": [
              "<div>\n",
              "<style scoped>\n",
              "    .dataframe tbody tr th:only-of-type {\n",
              "        vertical-align: middle;\n",
              "    }\n",
              "\n",
              "    .dataframe tbody tr th {\n",
              "        vertical-align: top;\n",
              "    }\n",
              "\n",
              "    .dataframe thead th {\n",
              "        text-align: right;\n",
              "    }\n",
              "</style>\n",
              "<table border=\"1\" class=\"dataframe\">\n",
              "  <thead>\n",
              "    <tr style=\"text-align: right;\">\n",
              "      <th></th>\n",
              "      <th>geo</th>\n",
              "      <th>time</th>\n",
              "      <th>cell_phones_total</th>\n",
              "      <th>population_total</th>\n",
              "      <th>country</th>\n",
              "      <th>cells_per_person</th>\n",
              "    </tr>\n",
              "  </thead>\n",
              "  <tbody>\n",
              "    <tr>\n",
              "      <th>1496</th>\n",
              "      <td>CHN</td>\n",
              "      <td>2017</td>\n",
              "      <td>1,474,097,000.0</td>\n",
              "      <td>1409517397</td>\n",
              "      <td>China</td>\n",
              "      <td>1.0458168186766978</td>\n",
              "    </tr>\n",
              "    <tr>\n",
              "      <th>3595</th>\n",
              "      <td>IND</td>\n",
              "      <td>2017</td>\n",
              "      <td>1,168,902,277.0</td>\n",
              "      <td>1339180127</td>\n",
              "      <td>India</td>\n",
              "      <td>0.8728491809526382</td>\n",
              "    </tr>\n",
              "    <tr>\n",
              "      <th>3549</th>\n",
              "      <td>IDN</td>\n",
              "      <td>2017</td>\n",
              "      <td>458,923,202.0</td>\n",
              "      <td>263991379</td>\n",
              "      <td>Indonesia</td>\n",
              "      <td>1.738402230172827</td>\n",
              "    </tr>\n",
              "    <tr>\n",
              "      <th>8134</th>\n",
              "      <td>USA</td>\n",
              "      <td>2017</td>\n",
              "      <td>395,881,000.0</td>\n",
              "      <td>324459463</td>\n",
              "      <td>United States</td>\n",
              "      <td>1.2201246847283354</td>\n",
              "    </tr>\n",
              "    <tr>\n",
              "      <th>1084</th>\n",
              "      <td>BRA</td>\n",
              "      <td>2017</td>\n",
              "      <td>236,488,548.0</td>\n",
              "      <td>209288278</td>\n",
              "      <td>Brazil</td>\n",
              "      <td>1.1299655683535224</td>\n",
              "    </tr>\n",
              "  </tbody>\n",
              "</table>\n",
              "</div>"
            ],
            "text/plain": [
              "      geo  time  ...        country   cells_per_person\n",
              "1496  CHN  2017  ...          China 1.0458168186766978\n",
              "3595  IND  2017  ...          India 0.8728491809526382\n",
              "3549  IDN  2017  ...      Indonesia  1.738402230172827\n",
              "8134  USA  2017  ...  United States 1.2201246847283354\n",
              "1084  BRA  2017  ...         Brazil 1.1299655683535224\n",
              "\n",
              "[5 rows x 6 columns]"
            ]
          },
          "metadata": {
            "tags": []
          },
          "execution_count": 276
        }
      ]
    },
    {
      "cell_type": "markdown",
      "metadata": {
        "id": "SP742ByS0whk",
        "colab_type": "text"
      },
      "source": [
        "#### Answer #1"
      ]
    },
    {
      "cell_type": "markdown",
      "metadata": {
        "id": "G-c_HZ6ByNB8",
        "colab_type": "text"
      },
      "source": [
        "**2017 Most Total Cell Phones**\n",
        "\n",
        "* China\n",
        "* India\n",
        "* Indonesia\n",
        "* United States\n",
        "* Brazil"
      ]
    },
    {
      "cell_type": "markdown",
      "metadata": {
        "id": "Cf5GNTQC0za1",
        "colab_type": "text"
      },
      "source": [
        "#### Question #2"
      ]
    },
    {
      "cell_type": "markdown",
      "metadata": {
        "colab_type": "text",
        "id": "03V3Wln_h0dj"
      },
      "source": [
        "2017 was the first year that China had more cell phones than people.\n",
        "\n",
        "What was the first year that the USA had more cell phones than people?"
      ]
    },
    {
      "cell_type": "code",
      "metadata": {
        "colab_type": "code",
        "id": "KONQkQZ3haNC",
        "colab": {}
      },
      "source": [
        "usa = df[df['geo'] == \"USA\"]"
      ],
      "execution_count": 0,
      "outputs": []
    },
    {
      "cell_type": "code",
      "metadata": {
        "id": "tTFlprgUkQyR",
        "colab_type": "code",
        "colab": {
          "base_uri": "https://localhost:8080/",
          "height": 0
        },
        "outputId": "e5bab623-475e-4ce2-cd73-4f0886b7fd6a"
      },
      "source": [
        "usa[usa['cells_per_person'] >= 1].sort_values(by=\"time\")"
      ],
      "execution_count": 278,
      "outputs": [
        {
          "output_type": "execute_result",
          "data": {
            "text/html": [
              "<div>\n",
              "<style scoped>\n",
              "    .dataframe tbody tr th:only-of-type {\n",
              "        vertical-align: middle;\n",
              "    }\n",
              "\n",
              "    .dataframe tbody tr th {\n",
              "        vertical-align: top;\n",
              "    }\n",
              "\n",
              "    .dataframe thead th {\n",
              "        text-align: right;\n",
              "    }\n",
              "</style>\n",
              "<table border=\"1\" class=\"dataframe\">\n",
              "  <thead>\n",
              "    <tr style=\"text-align: right;\">\n",
              "      <th></th>\n",
              "      <th>geo</th>\n",
              "      <th>time</th>\n",
              "      <th>cell_phones_total</th>\n",
              "      <th>population_total</th>\n",
              "      <th>country</th>\n",
              "      <th>cells_per_person</th>\n",
              "    </tr>\n",
              "  </thead>\n",
              "  <tbody>\n",
              "    <tr>\n",
              "      <th>8131</th>\n",
              "      <td>USA</td>\n",
              "      <td>2014</td>\n",
              "      <td>355,500,000.0</td>\n",
              "      <td>317718779</td>\n",
              "      <td>United States</td>\n",
              "      <td>1.118914031833164</td>\n",
              "    </tr>\n",
              "    <tr>\n",
              "      <th>8132</th>\n",
              "      <td>USA</td>\n",
              "      <td>2015</td>\n",
              "      <td>382,307,000.0</td>\n",
              "      <td>319929162</td>\n",
              "      <td>United States</td>\n",
              "      <td>1.1949739048796058</td>\n",
              "    </tr>\n",
              "    <tr>\n",
              "      <th>8133</th>\n",
              "      <td>USA</td>\n",
              "      <td>2016</td>\n",
              "      <td>395,881,000.0</td>\n",
              "      <td>322179605</td>\n",
              "      <td>United States</td>\n",
              "      <td>1.228758722948959</td>\n",
              "    </tr>\n",
              "    <tr>\n",
              "      <th>8134</th>\n",
              "      <td>USA</td>\n",
              "      <td>2017</td>\n",
              "      <td>395,881,000.0</td>\n",
              "      <td>324459463</td>\n",
              "      <td>United States</td>\n",
              "      <td>1.2201246847283354</td>\n",
              "    </tr>\n",
              "  </tbody>\n",
              "</table>\n",
              "</div>"
            ],
            "text/plain": [
              "      geo  time  ...        country   cells_per_person\n",
              "8131  USA  2014  ...  United States  1.118914031833164\n",
              "8132  USA  2015  ...  United States 1.1949739048796058\n",
              "8133  USA  2016  ...  United States  1.228758722948959\n",
              "8134  USA  2017  ...  United States 1.2201246847283354\n",
              "\n",
              "[4 rows x 6 columns]"
            ]
          },
          "metadata": {
            "tags": []
          },
          "execution_count": 278
        }
      ]
    },
    {
      "cell_type": "markdown",
      "metadata": {
        "id": "tKmHGE4s01xF",
        "colab_type": "text"
      },
      "source": [
        "#### Answer #2"
      ]
    },
    {
      "cell_type": "markdown",
      "metadata": {
        "id": "VY4hpws6km_2",
        "colab_type": "text"
      },
      "source": [
        "**2014** was the first year the USA had more cell phones than people."
      ]
    },
    {
      "cell_type": "code",
      "metadata": {
        "id": "jS2GMVRTkLgT",
        "colab_type": "code",
        "colab": {
          "base_uri": "https://localhost:8080/",
          "height": 0
        },
        "outputId": "aef5cf08-a169-458e-d720-f0e15fa3bef4"
      },
      "source": [
        "usa.tail(10)"
      ],
      "execution_count": 279,
      "outputs": [
        {
          "output_type": "execute_result",
          "data": {
            "text/html": [
              "<div>\n",
              "<style scoped>\n",
              "    .dataframe tbody tr th:only-of-type {\n",
              "        vertical-align: middle;\n",
              "    }\n",
              "\n",
              "    .dataframe tbody tr th {\n",
              "        vertical-align: top;\n",
              "    }\n",
              "\n",
              "    .dataframe thead th {\n",
              "        text-align: right;\n",
              "    }\n",
              "</style>\n",
              "<table border=\"1\" class=\"dataframe\">\n",
              "  <thead>\n",
              "    <tr style=\"text-align: right;\">\n",
              "      <th></th>\n",
              "      <th>geo</th>\n",
              "      <th>time</th>\n",
              "      <th>cell_phones_total</th>\n",
              "      <th>population_total</th>\n",
              "      <th>country</th>\n",
              "      <th>cells_per_person</th>\n",
              "    </tr>\n",
              "  </thead>\n",
              "  <tbody>\n",
              "    <tr>\n",
              "      <th>8125</th>\n",
              "      <td>USA</td>\n",
              "      <td>2008</td>\n",
              "      <td>261,300,000.0</td>\n",
              "      <td>303374067</td>\n",
              "      <td>United States</td>\n",
              "      <td>0.8613129084629373</td>\n",
              "    </tr>\n",
              "    <tr>\n",
              "      <th>8126</th>\n",
              "      <td>USA</td>\n",
              "      <td>2009</td>\n",
              "      <td>274,283,000.0</td>\n",
              "      <td>306076362</td>\n",
              "      <td>United States</td>\n",
              "      <td>0.8961260458264333</td>\n",
              "    </tr>\n",
              "    <tr>\n",
              "      <th>8127</th>\n",
              "      <td>USA</td>\n",
              "      <td>2010</td>\n",
              "      <td>285,118,000.0</td>\n",
              "      <td>308641391</td>\n",
              "      <td>United States</td>\n",
              "      <td>0.9237840688710478</td>\n",
              "    </tr>\n",
              "    <tr>\n",
              "      <th>8128</th>\n",
              "      <td>USA</td>\n",
              "      <td>2011</td>\n",
              "      <td>297,404,000.0</td>\n",
              "      <td>311051373</td>\n",
              "      <td>United States</td>\n",
              "      <td>0.9561250192584747</td>\n",
              "    </tr>\n",
              "    <tr>\n",
              "      <th>8129</th>\n",
              "      <td>USA</td>\n",
              "      <td>2012</td>\n",
              "      <td>304,838,000.0</td>\n",
              "      <td>313335423</td>\n",
              "      <td>United States</td>\n",
              "      <td>0.9728807457559626</td>\n",
              "    </tr>\n",
              "    <tr>\n",
              "      <th>8130</th>\n",
              "      <td>USA</td>\n",
              "      <td>2013</td>\n",
              "      <td>310,698,000.0</td>\n",
              "      <td>315536676</td>\n",
              "      <td>United States</td>\n",
              "      <td>0.9846652501340288</td>\n",
              "    </tr>\n",
              "    <tr>\n",
              "      <th>8131</th>\n",
              "      <td>USA</td>\n",
              "      <td>2014</td>\n",
              "      <td>355,500,000.0</td>\n",
              "      <td>317718779</td>\n",
              "      <td>United States</td>\n",
              "      <td>1.118914031833164</td>\n",
              "    </tr>\n",
              "    <tr>\n",
              "      <th>8132</th>\n",
              "      <td>USA</td>\n",
              "      <td>2015</td>\n",
              "      <td>382,307,000.0</td>\n",
              "      <td>319929162</td>\n",
              "      <td>United States</td>\n",
              "      <td>1.1949739048796058</td>\n",
              "    </tr>\n",
              "    <tr>\n",
              "      <th>8133</th>\n",
              "      <td>USA</td>\n",
              "      <td>2016</td>\n",
              "      <td>395,881,000.0</td>\n",
              "      <td>322179605</td>\n",
              "      <td>United States</td>\n",
              "      <td>1.228758722948959</td>\n",
              "    </tr>\n",
              "    <tr>\n",
              "      <th>8134</th>\n",
              "      <td>USA</td>\n",
              "      <td>2017</td>\n",
              "      <td>395,881,000.0</td>\n",
              "      <td>324459463</td>\n",
              "      <td>United States</td>\n",
              "      <td>1.2201246847283354</td>\n",
              "    </tr>\n",
              "  </tbody>\n",
              "</table>\n",
              "</div>"
            ],
            "text/plain": [
              "      geo  time  ...        country   cells_per_person\n",
              "8125  USA  2008  ...  United States 0.8613129084629373\n",
              "8126  USA  2009  ...  United States 0.8961260458264333\n",
              "8127  USA  2010  ...  United States 0.9237840688710478\n",
              "8128  USA  2011  ...  United States 0.9561250192584747\n",
              "8129  USA  2012  ...  United States 0.9728807457559626\n",
              "8130  USA  2013  ...  United States 0.9846652501340288\n",
              "8131  USA  2014  ...  United States  1.118914031833164\n",
              "8132  USA  2015  ...  United States 1.1949739048796058\n",
              "8133  USA  2016  ...  United States  1.228758722948959\n",
              "8134  USA  2017  ...  United States 1.2201246847283354\n",
              "\n",
              "[10 rows x 6 columns]"
            ]
          },
          "metadata": {
            "tags": []
          },
          "execution_count": 279
        }
      ]
    },
    {
      "cell_type": "markdown",
      "metadata": {
        "id": "4pHjHTwp8jzn",
        "colab_type": "text"
      },
      "source": [
        "***Optional bonus for Part 3: Take initiative to do more exploratory data analysis.***"
      ]
    },
    {
      "cell_type": "code",
      "metadata": {
        "id": "9wy5WESzk2iZ",
        "colab_type": "code",
        "colab": {
          "base_uri": "https://localhost:8080/",
          "height": 0
        },
        "outputId": "bf253352-3cce-4f5a-e5fd-991658d4e6fe"
      },
      "source": [
        "df_2017.sort_values(by=\"cells_per_person\", ascending=False).head(20)"
      ],
      "execution_count": 280,
      "outputs": [
        {
          "output_type": "execute_result",
          "data": {
            "text/html": [
              "<div>\n",
              "<style scoped>\n",
              "    .dataframe tbody tr th:only-of-type {\n",
              "        vertical-align: middle;\n",
              "    }\n",
              "\n",
              "    .dataframe tbody tr th {\n",
              "        vertical-align: top;\n",
              "    }\n",
              "\n",
              "    .dataframe thead th {\n",
              "        text-align: right;\n",
              "    }\n",
              "</style>\n",
              "<table border=\"1\" class=\"dataframe\">\n",
              "  <thead>\n",
              "    <tr style=\"text-align: right;\">\n",
              "      <th></th>\n",
              "      <th>geo</th>\n",
              "      <th>time</th>\n",
              "      <th>cell_phones_total</th>\n",
              "      <th>population_total</th>\n",
              "      <th>country</th>\n",
              "      <th>cells_per_person</th>\n",
              "    </tr>\n",
              "  </thead>\n",
              "  <tbody>\n",
              "    <tr>\n",
              "      <th>3319</th>\n",
              "      <td>HKG</td>\n",
              "      <td>2017</td>\n",
              "      <td>18,340,347.0</td>\n",
              "      <td>7364883</td>\n",
              "      <td>Hong Kong, China</td>\n",
              "      <td>2.490242818521353</td>\n",
              "    </tr>\n",
              "    <tr>\n",
              "      <th>219</th>\n",
              "      <td>ARE</td>\n",
              "      <td>2017</td>\n",
              "      <td>19,826,224.0</td>\n",
              "      <td>9400145</td>\n",
              "      <td>United Arab Emirates</td>\n",
              "      <td>2.109140231347495</td>\n",
              "    </tr>\n",
              "    <tr>\n",
              "      <th>5056</th>\n",
              "      <td>MDV</td>\n",
              "      <td>2017</td>\n",
              "      <td>900,120.0</td>\n",
              "      <td>436330</td>\n",
              "      <td>Maldives</td>\n",
              "      <td>2.0629340178305413</td>\n",
              "    </tr>\n",
              "    <tr>\n",
              "      <th>1860</th>\n",
              "      <td>CRI</td>\n",
              "      <td>2017</td>\n",
              "      <td>8,840,342.0</td>\n",
              "      <td>4905769</td>\n",
              "      <td>Costa Rica</td>\n",
              "      <td>1.8020298142859967</td>\n",
              "    </tr>\n",
              "    <tr>\n",
              "      <th>7393</th>\n",
              "      <td>SYC</td>\n",
              "      <td>2017</td>\n",
              "      <td>167,282.0</td>\n",
              "      <td>94737</td>\n",
              "      <td>Seychelles</td>\n",
              "      <td>1.7657515015252752</td>\n",
              "    </tr>\n",
              "    <tr>\n",
              "      <th>7576</th>\n",
              "      <td>THA</td>\n",
              "      <td>2017</td>\n",
              "      <td>121,530,000.0</td>\n",
              "      <td>69037513</td>\n",
              "      <td>Thailand</td>\n",
              "      <td>1.7603473056742354</td>\n",
              "    </tr>\n",
              "    <tr>\n",
              "      <th>3549</th>\n",
              "      <td>IDN</td>\n",
              "      <td>2017</td>\n",
              "      <td>458,923,202.0</td>\n",
              "      <td>263991379</td>\n",
              "      <td>Indonesia</td>\n",
              "      <td>1.738402230172827</td>\n",
              "    </tr>\n",
              "    <tr>\n",
              "      <th>442</th>\n",
              "      <td>AUT</td>\n",
              "      <td>2017</td>\n",
              "      <td>14,924,340.0</td>\n",
              "      <td>8735453</td>\n",
              "      <td>Austria</td>\n",
              "      <td>1.7084792282666967</td>\n",
              "    </tr>\n",
              "    <tr>\n",
              "      <th>5335</th>\n",
              "      <td>MNE</td>\n",
              "      <td>2017</td>\n",
              "      <td>1,044,674.0</td>\n",
              "      <td>628960</td>\n",
              "      <td>Montenegro</td>\n",
              "      <td>1.6609545917069448</td>\n",
              "    </tr>\n",
              "    <tr>\n",
              "      <th>8497</th>\n",
              "      <td>ZAF</td>\n",
              "      <td>2017</td>\n",
              "      <td>91,878,275.0</td>\n",
              "      <td>56717156</td>\n",
              "      <td>South Africa</td>\n",
              "      <td>1.619937977849242</td>\n",
              "    </tr>\n",
              "    <tr>\n",
              "      <th>810</th>\n",
              "      <td>BHR</td>\n",
              "      <td>2017</td>\n",
              "      <td>2,364,477.0</td>\n",
              "      <td>1492584</td>\n",
              "      <td>Bahrain</td>\n",
              "      <td>1.584150037786818</td>\n",
              "    </tr>\n",
              "    <tr>\n",
              "      <th>6636</th>\n",
              "      <td>RUS</td>\n",
              "      <td>2017</td>\n",
              "      <td>227,341,873.0</td>\n",
              "      <td>143989754</td>\n",
              "      <td>Russia</td>\n",
              "      <td>1.5788753483112417</td>\n",
              "    </tr>\n",
              "    <tr>\n",
              "      <th>6978</th>\n",
              "      <td>SLV</td>\n",
              "      <td>2017</td>\n",
              "      <td>9,982,186.0</td>\n",
              "      <td>6377853</td>\n",
              "      <td>El Salvador</td>\n",
              "      <td>1.565132655142726</td>\n",
              "    </tr>\n",
              "    <tr>\n",
              "      <th>4734</th>\n",
              "      <td>LTU</td>\n",
              "      <td>2017</td>\n",
              "      <td>4,361,329.0</td>\n",
              "      <td>2890297</td>\n",
              "      <td>Lithuania</td>\n",
              "      <td>1.508955308053117</td>\n",
              "    </tr>\n",
              "    <tr>\n",
              "      <th>6058</th>\n",
              "      <td>OMN</td>\n",
              "      <td>2017</td>\n",
              "      <td>6,943,910.0</td>\n",
              "      <td>4636262</td>\n",
              "      <td>Oman</td>\n",
              "      <td>1.4977389112177009</td>\n",
              "    </tr>\n",
              "    <tr>\n",
              "      <th>7773</th>\n",
              "      <td>TTO</td>\n",
              "      <td>2017</td>\n",
              "      <td>2,030,637.0</td>\n",
              "      <td>1369125</td>\n",
              "      <td>Trinidad and Tobago</td>\n",
              "      <td>1.4831640646398248</td>\n",
              "    </tr>\n",
              "    <tr>\n",
              "      <th>6544</th>\n",
              "      <td>QAT</td>\n",
              "      <td>2017</td>\n",
              "      <td>3,913,809.0</td>\n",
              "      <td>2639211</td>\n",
              "      <td>Qatar</td>\n",
              "      <td>1.482946607906681</td>\n",
              "    </tr>\n",
              "    <tr>\n",
              "      <th>6844</th>\n",
              "      <td>SGP</td>\n",
              "      <td>2017</td>\n",
              "      <td>8,462,800.0</td>\n",
              "      <td>5708844</td>\n",
              "      <td>Singapore</td>\n",
              "      <td>1.4824016911304636</td>\n",
              "    </tr>\n",
              "    <tr>\n",
              "      <th>8091</th>\n",
              "      <td>URY</td>\n",
              "      <td>2017</td>\n",
              "      <td>5,097,569.0</td>\n",
              "      <td>3456750</td>\n",
              "      <td>Uruguay</td>\n",
              "      <td>1.4746710060027481</td>\n",
              "    </tr>\n",
              "    <tr>\n",
              "      <th>2863</th>\n",
              "      <td>GEO</td>\n",
              "      <td>2017</td>\n",
              "      <td>5,730,625.0</td>\n",
              "      <td>3912061</td>\n",
              "      <td>Georgia</td>\n",
              "      <td>1.4648608495624174</td>\n",
              "    </tr>\n",
              "  </tbody>\n",
              "</table>\n",
              "</div>"
            ],
            "text/plain": [
              "      geo  time  ...               country   cells_per_person\n",
              "3319  HKG  2017  ...      Hong Kong, China  2.490242818521353\n",
              "219   ARE  2017  ...  United Arab Emirates  2.109140231347495\n",
              "5056  MDV  2017  ...              Maldives 2.0629340178305413\n",
              "1860  CRI  2017  ...            Costa Rica 1.8020298142859967\n",
              "7393  SYC  2017  ...            Seychelles 1.7657515015252752\n",
              "7576  THA  2017  ...              Thailand 1.7603473056742354\n",
              "3549  IDN  2017  ...             Indonesia  1.738402230172827\n",
              "442   AUT  2017  ...               Austria 1.7084792282666967\n",
              "5335  MNE  2017  ...            Montenegro 1.6609545917069448\n",
              "8497  ZAF  2017  ...          South Africa  1.619937977849242\n",
              "810   BHR  2017  ...               Bahrain  1.584150037786818\n",
              "6636  RUS  2017  ...                Russia 1.5788753483112417\n",
              "6978  SLV  2017  ...           El Salvador  1.565132655142726\n",
              "4734  LTU  2017  ...             Lithuania  1.508955308053117\n",
              "6058  OMN  2017  ...                  Oman 1.4977389112177009\n",
              "7773  TTO  2017  ...   Trinidad and Tobago 1.4831640646398248\n",
              "6544  QAT  2017  ...                 Qatar  1.482946607906681\n",
              "6844  SGP  2017  ...             Singapore 1.4824016911304636\n",
              "8091  URY  2017  ...               Uruguay 1.4746710060027481\n",
              "2863  GEO  2017  ...               Georgia 1.4648608495624174\n",
              "\n",
              "[20 rows x 6 columns]"
            ]
          },
          "metadata": {
            "tags": []
          },
          "execution_count": 280
        }
      ]
    },
    {
      "cell_type": "markdown",
      "metadata": {
        "colab_type": "text",
        "id": "6J7iwMnTg8KZ"
      },
      "source": [
        "### (OPTIONAL) Part 4. Reshape data"
      ]
    },
    {
      "cell_type": "markdown",
      "metadata": {
        "colab_type": "text",
        "id": "LP9InazRkUxG"
      },
      "source": [
        "*This part is not needed to pass the sprint challenge, only to get a 3! Only work on this after completing the other sections.*\n",
        "\n",
        "Create a pivot table:\n",
        "- Columns: Years 2007—2017\n",
        "- Rows: China, India, United States, Indonesia, Brazil (order doesn't matter)\n",
        "- Values: Cell Phones Total\n",
        "\n",
        "The table's shape should be: (5, 11)"
      ]
    },
    {
      "cell_type": "code",
      "metadata": {
        "colab_type": "code",
        "id": "JD7mXXjLj4Ue",
        "colab": {}
      },
      "source": [
        ""
      ],
      "execution_count": 0,
      "outputs": []
    },
    {
      "cell_type": "markdown",
      "metadata": {
        "colab_type": "text",
        "id": "CNKTu2DCnAo6"
      },
      "source": [
        "Sort these 5 countries, by biggest increase in cell phones from 2007 to 2017.\n",
        "\n",
        "Which country had 935,282,277 more cell phones in 2017 versus 2007?"
      ]
    },
    {
      "cell_type": "code",
      "metadata": {
        "colab_type": "code",
        "id": "O4Aecv1fmQlj",
        "colab": {}
      },
      "source": [
        ""
      ],
      "execution_count": 0,
      "outputs": []
    },
    {
      "cell_type": "markdown",
      "metadata": {
        "colab_type": "text",
        "id": "7iHkMsa3Rorh"
      },
      "source": [
        "If you have the time and curiosity, what other questions can you ask and answer with this data?"
      ]
    },
    {
      "cell_type": "markdown",
      "metadata": {
        "id": "vtcAJOAV9k3X",
        "colab_type": "text"
      },
      "source": [
        "## Data Storytelling\n",
        "\n",
        "In this part of the sprint challenge you'll work with a dataset from **FiveThirtyEight's article, [Every Guest Jon Stewart Ever Had On ‘The Daily Show’](https://fivethirtyeight.com/features/every-guest-jon-stewart-ever-had-on-the-daily-show/)**!"
      ]
    },
    {
      "cell_type": "markdown",
      "metadata": {
        "id": "UtjoIqvm9yFg",
        "colab_type": "text"
      },
      "source": [
        "### Part 0 — Run this starter code\n",
        "\n",
        "You don't need to add or change anything here. Just run this cell and it loads the data for you, into a dataframe named `df`.\n",
        "\n",
        "(You can explore the data if you want, but it's not required to pass the Sprint Challenge.)"
      ]
    },
    {
      "cell_type": "code",
      "metadata": {
        "id": "tYujbhIz9zKU",
        "colab_type": "code",
        "colab": {}
      },
      "source": [
        "%matplotlib inline\n",
        "import matplotlib.pyplot as plt\n",
        "import numpy as np\n",
        "import pandas as pd\n",
        "\n",
        "url = 'https://raw.githubusercontent.com/fivethirtyeight/data/master/daily-show-guests/daily_show_guests.csv'\n",
        "df = pd.read_csv(url).rename(columns={'YEAR': 'Year', 'Raw_Guest_List': 'Guest'})\n",
        "\n",
        "def get_occupation(group):\n",
        "    if group in ['Acting', 'Comedy', 'Musician']:\n",
        "        return 'Acting, Comedy & Music'\n",
        "    elif group in ['Media', 'media']:\n",
        "        return 'Media'\n",
        "    elif group in ['Government', 'Politician', 'Political Aide']:\n",
        "        return 'Government and Politics'\n",
        "    else:\n",
        "        return 'Other'\n",
        "      \n",
        "df['Occupation'] = df['Group'].apply(get_occupation)"
      ],
      "execution_count": 0,
      "outputs": []
    },
    {
      "cell_type": "code",
      "metadata": {
        "id": "4RYikr8plyR0",
        "colab_type": "code",
        "colab": {
          "base_uri": "https://localhost:8080/",
          "height": 206
        },
        "outputId": "d6c85faa-4e8a-499b-9420-5784fdb5fdb8"
      },
      "source": [
        "df.head()"
      ],
      "execution_count": 282,
      "outputs": [
        {
          "output_type": "execute_result",
          "data": {
            "text/html": [
              "<div>\n",
              "<style scoped>\n",
              "    .dataframe tbody tr th:only-of-type {\n",
              "        vertical-align: middle;\n",
              "    }\n",
              "\n",
              "    .dataframe tbody tr th {\n",
              "        vertical-align: top;\n",
              "    }\n",
              "\n",
              "    .dataframe thead th {\n",
              "        text-align: right;\n",
              "    }\n",
              "</style>\n",
              "<table border=\"1\" class=\"dataframe\">\n",
              "  <thead>\n",
              "    <tr style=\"text-align: right;\">\n",
              "      <th></th>\n",
              "      <th>Year</th>\n",
              "      <th>GoogleKnowlege_Occupation</th>\n",
              "      <th>Show</th>\n",
              "      <th>Group</th>\n",
              "      <th>Guest</th>\n",
              "      <th>Occupation</th>\n",
              "    </tr>\n",
              "  </thead>\n",
              "  <tbody>\n",
              "    <tr>\n",
              "      <th>0</th>\n",
              "      <td>1999</td>\n",
              "      <td>actor</td>\n",
              "      <td>1/11/99</td>\n",
              "      <td>Acting</td>\n",
              "      <td>Michael J. Fox</td>\n",
              "      <td>Acting, Comedy &amp; Music</td>\n",
              "    </tr>\n",
              "    <tr>\n",
              "      <th>1</th>\n",
              "      <td>1999</td>\n",
              "      <td>Comedian</td>\n",
              "      <td>1/12/99</td>\n",
              "      <td>Comedy</td>\n",
              "      <td>Sandra Bernhard</td>\n",
              "      <td>Acting, Comedy &amp; Music</td>\n",
              "    </tr>\n",
              "    <tr>\n",
              "      <th>2</th>\n",
              "      <td>1999</td>\n",
              "      <td>television actress</td>\n",
              "      <td>1/13/99</td>\n",
              "      <td>Acting</td>\n",
              "      <td>Tracey Ullman</td>\n",
              "      <td>Acting, Comedy &amp; Music</td>\n",
              "    </tr>\n",
              "    <tr>\n",
              "      <th>3</th>\n",
              "      <td>1999</td>\n",
              "      <td>film actress</td>\n",
              "      <td>1/14/99</td>\n",
              "      <td>Acting</td>\n",
              "      <td>Gillian Anderson</td>\n",
              "      <td>Acting, Comedy &amp; Music</td>\n",
              "    </tr>\n",
              "    <tr>\n",
              "      <th>4</th>\n",
              "      <td>1999</td>\n",
              "      <td>actor</td>\n",
              "      <td>1/18/99</td>\n",
              "      <td>Acting</td>\n",
              "      <td>David Alan Grier</td>\n",
              "      <td>Acting, Comedy &amp; Music</td>\n",
              "    </tr>\n",
              "  </tbody>\n",
              "</table>\n",
              "</div>"
            ],
            "text/plain": [
              "   Year GoogleKnowlege_Occupation  ...             Guest              Occupation\n",
              "0  1999                     actor  ...    Michael J. Fox  Acting, Comedy & Music\n",
              "1  1999                  Comedian  ...   Sandra Bernhard  Acting, Comedy & Music\n",
              "2  1999        television actress  ...     Tracey Ullman  Acting, Comedy & Music\n",
              "3  1999              film actress  ...  Gillian Anderson  Acting, Comedy & Music\n",
              "4  1999                     actor  ...  David Alan Grier  Acting, Comedy & Music\n",
              "\n",
              "[5 rows x 6 columns]"
            ]
          },
          "metadata": {
            "tags": []
          },
          "execution_count": 282
        }
      ]
    },
    {
      "cell_type": "markdown",
      "metadata": {
        "id": "5hjnMK3j90Rp",
        "colab_type": "text"
      },
      "source": [
        "### Part 1 — What's the breakdown of guests’ occupations per year?\n",
        "\n",
        "For example, in 1999, what percentage of guests were actors, comedians, or musicians? What percentage were in the media? What percentage were in politics? What percentage were from another occupation?\n",
        "\n",
        "Then, what about in 2000? In 2001? And so on, up through 2015.\n",
        "\n",
        "So, **for each year of _The Daily Show_, calculate the percentage of guests from each occupation:**\n",
        "- Acting, Comedy & Music\n",
        "- Government and Politics\n",
        "- Media\n",
        "- Other\n",
        "\n",
        "#### Hints:\n",
        "You can make a crosstab. (See pandas documentation for examples, explanation, and parameters.)\n",
        "\n",
        "You'll know you've calculated correctly when the percentage of \"Acting, Comedy & Music\" guests is 90.36% in 1999, and 45% in 2015.\n",
        "\n",
        "**Optional Bonus Challenge:** Do additional insightful data exploration."
      ]
    },
    {
      "cell_type": "code",
      "metadata": {
        "id": "EbobyiHv916F",
        "colab_type": "code",
        "colab": {}
      },
      "source": [
        "tab = pd.crosstab(df['Year'], df['Occupation'])"
      ],
      "execution_count": 0,
      "outputs": []
    },
    {
      "cell_type": "code",
      "metadata": {
        "id": "TnAy0pb3nKcv",
        "colab_type": "code",
        "colab": {}
      },
      "source": [
        "tab['ACM Proportion'] = True\n",
        "tab['GP Proportion'] = True\n",
        "tab['Media Proportion'] = True\n",
        "tab['Other Proportion'] = True\n",
        "\n",
        "# Add year column that's not the index\n",
        "years = list(range(1999, 2016))\n",
        "tab['year'] = years\n",
        "\n",
        "# To check:\n",
        "tab['prop_sum'] = True"
      ],
      "execution_count": 0,
      "outputs": []
    },
    {
      "cell_type": "code",
      "metadata": {
        "id": "Iha4jmrunsTQ",
        "colab_type": "code",
        "colab": {}
      },
      "source": [
        "tab['ACM Proportion'] = (tab['Acting, Comedy & Music'] / (tab['Government and Politics']+tab['Media']+tab['Other']+tab['Acting, Comedy & Music']))*100\n",
        "tab['GP Proportion'] = (tab['Government and Politics'] / (tab['Government and Politics']+tab['Media']+tab['Other']+tab['Acting, Comedy & Music']))*100\n",
        "tab['Media Proportion'] = (tab['Media'] / (tab['Government and Politics']+tab['Media']+tab['Other']+tab['Acting, Comedy & Music']))*100\n",
        "tab['Other Proportion'] = (tab['Other'] / (tab['Government and Politics']+tab['Media']+tab['Other']+tab['Acting, Comedy & Music']))*100\n",
        "\n",
        "# To check:\n",
        "tab['prop_sum'] = tab['ACM Proportion']+tab['GP Proportion']+tab['Media Proportion']+tab['Other Proportion']"
      ],
      "execution_count": 0,
      "outputs": []
    },
    {
      "cell_type": "code",
      "metadata": {
        "id": "sQOdfbMKm9c-",
        "colab_type": "code",
        "outputId": "b5a85229-ef07-4152-8f63-54aef750ac62",
        "colab": {
          "base_uri": "https://localhost:8080/",
          "height": 631
        }
      },
      "source": [
        "tab"
      ],
      "execution_count": 286,
      "outputs": [
        {
          "output_type": "execute_result",
          "data": {
            "text/html": [
              "<div>\n",
              "<style scoped>\n",
              "    .dataframe tbody tr th:only-of-type {\n",
              "        vertical-align: middle;\n",
              "    }\n",
              "\n",
              "    .dataframe tbody tr th {\n",
              "        vertical-align: top;\n",
              "    }\n",
              "\n",
              "    .dataframe thead th {\n",
              "        text-align: right;\n",
              "    }\n",
              "</style>\n",
              "<table border=\"1\" class=\"dataframe\">\n",
              "  <thead>\n",
              "    <tr style=\"text-align: right;\">\n",
              "      <th>Occupation</th>\n",
              "      <th>Acting, Comedy &amp; Music</th>\n",
              "      <th>Government and Politics</th>\n",
              "      <th>Media</th>\n",
              "      <th>Other</th>\n",
              "      <th>ACM Proportion</th>\n",
              "      <th>GP Proportion</th>\n",
              "      <th>Media Proportion</th>\n",
              "      <th>Other Proportion</th>\n",
              "      <th>year</th>\n",
              "      <th>prop_sum</th>\n",
              "    </tr>\n",
              "    <tr>\n",
              "      <th>Year</th>\n",
              "      <th></th>\n",
              "      <th></th>\n",
              "      <th></th>\n",
              "      <th></th>\n",
              "      <th></th>\n",
              "      <th></th>\n",
              "      <th></th>\n",
              "      <th></th>\n",
              "      <th></th>\n",
              "      <th></th>\n",
              "    </tr>\n",
              "  </thead>\n",
              "  <tbody>\n",
              "    <tr>\n",
              "      <th>1999</th>\n",
              "      <td>150</td>\n",
              "      <td>2</td>\n",
              "      <td>11</td>\n",
              "      <td>3</td>\n",
              "      <td>90.36144578313254</td>\n",
              "      <td>1.2048192771084338</td>\n",
              "      <td>6.626506024096386</td>\n",
              "      <td>1.8072289156626504</td>\n",
              "      <td>1999</td>\n",
              "      <td>100.0</td>\n",
              "    </tr>\n",
              "    <tr>\n",
              "      <th>2000</th>\n",
              "      <td>125</td>\n",
              "      <td>14</td>\n",
              "      <td>21</td>\n",
              "      <td>9</td>\n",
              "      <td>73.96449704142012</td>\n",
              "      <td>8.284023668639055</td>\n",
              "      <td>12.42603550295858</td>\n",
              "      <td>5.325443786982249</td>\n",
              "      <td>2000</td>\n",
              "      <td>100.0</td>\n",
              "    </tr>\n",
              "    <tr>\n",
              "      <th>2001</th>\n",
              "      <td>114</td>\n",
              "      <td>6</td>\n",
              "      <td>31</td>\n",
              "      <td>6</td>\n",
              "      <td>72.61146496815286</td>\n",
              "      <td>3.821656050955414</td>\n",
              "      <td>19.745222929936308</td>\n",
              "      <td>3.821656050955414</td>\n",
              "      <td>2001</td>\n",
              "      <td>99.99999999999999</td>\n",
              "    </tr>\n",
              "    <tr>\n",
              "      <th>2002</th>\n",
              "      <td>99</td>\n",
              "      <td>11</td>\n",
              "      <td>42</td>\n",
              "      <td>7</td>\n",
              "      <td>62.264150943396224</td>\n",
              "      <td>6.918238993710692</td>\n",
              "      <td>26.41509433962264</td>\n",
              "      <td>4.40251572327044</td>\n",
              "      <td>2002</td>\n",
              "      <td>100.0</td>\n",
              "    </tr>\n",
              "    <tr>\n",
              "      <th>2003</th>\n",
              "      <td>93</td>\n",
              "      <td>17</td>\n",
              "      <td>41</td>\n",
              "      <td>15</td>\n",
              "      <td>56.024096385542165</td>\n",
              "      <td>10.240963855421686</td>\n",
              "      <td>24.69879518072289</td>\n",
              "      <td>9.036144578313253</td>\n",
              "      <td>2003</td>\n",
              "      <td>99.99999999999999</td>\n",
              "    </tr>\n",
              "    <tr>\n",
              "      <th>2004</th>\n",
              "      <td>63</td>\n",
              "      <td>37</td>\n",
              "      <td>45</td>\n",
              "      <td>19</td>\n",
              "      <td>38.41463414634146</td>\n",
              "      <td>22.5609756097561</td>\n",
              "      <td>27.439024390243905</td>\n",
              "      <td>11.585365853658537</td>\n",
              "      <td>2004</td>\n",
              "      <td>100.0</td>\n",
              "    </tr>\n",
              "    <tr>\n",
              "      <th>2005</th>\n",
              "      <td>60</td>\n",
              "      <td>26</td>\n",
              "      <td>54</td>\n",
              "      <td>22</td>\n",
              "      <td>37.03703703703704</td>\n",
              "      <td>16.049382716049383</td>\n",
              "      <td>33.33333333333333</td>\n",
              "      <td>13.580246913580247</td>\n",
              "      <td>2005</td>\n",
              "      <td>100.0</td>\n",
              "    </tr>\n",
              "    <tr>\n",
              "      <th>2006</th>\n",
              "      <td>58</td>\n",
              "      <td>31</td>\n",
              "      <td>47</td>\n",
              "      <td>25</td>\n",
              "      <td>36.024844720496894</td>\n",
              "      <td>19.25465838509317</td>\n",
              "      <td>29.19254658385093</td>\n",
              "      <td>15.527950310559005</td>\n",
              "      <td>2006</td>\n",
              "      <td>100.0</td>\n",
              "    </tr>\n",
              "    <tr>\n",
              "      <th>2007</th>\n",
              "      <td>36</td>\n",
              "      <td>24</td>\n",
              "      <td>47</td>\n",
              "      <td>34</td>\n",
              "      <td>25.53191489361702</td>\n",
              "      <td>17.02127659574468</td>\n",
              "      <td>33.33333333333333</td>\n",
              "      <td>24.113475177304963</td>\n",
              "      <td>2007</td>\n",
              "      <td>100.0</td>\n",
              "    </tr>\n",
              "    <tr>\n",
              "      <th>2008</th>\n",
              "      <td>34</td>\n",
              "      <td>33</td>\n",
              "      <td>77</td>\n",
              "      <td>20</td>\n",
              "      <td>20.73170731707317</td>\n",
              "      <td>20.121951219512198</td>\n",
              "      <td>46.95121951219512</td>\n",
              "      <td>12.195121951219512</td>\n",
              "      <td>2008</td>\n",
              "      <td>100.0</td>\n",
              "    </tr>\n",
              "    <tr>\n",
              "      <th>2009</th>\n",
              "      <td>34</td>\n",
              "      <td>34</td>\n",
              "      <td>59</td>\n",
              "      <td>36</td>\n",
              "      <td>20.858895705521473</td>\n",
              "      <td>20.858895705521473</td>\n",
              "      <td>36.19631901840491</td>\n",
              "      <td>22.085889570552148</td>\n",
              "      <td>2009</td>\n",
              "      <td>100.0</td>\n",
              "    </tr>\n",
              "    <tr>\n",
              "      <th>2010</th>\n",
              "      <td>58</td>\n",
              "      <td>30</td>\n",
              "      <td>50</td>\n",
              "      <td>27</td>\n",
              "      <td>35.15151515151515</td>\n",
              "      <td>18.181818181818183</td>\n",
              "      <td>30.303030303030305</td>\n",
              "      <td>16.363636363636363</td>\n",
              "      <td>2010</td>\n",
              "      <td>99.99999999999999</td>\n",
              "    </tr>\n",
              "    <tr>\n",
              "      <th>2011</th>\n",
              "      <td>55</td>\n",
              "      <td>27</td>\n",
              "      <td>51</td>\n",
              "      <td>30</td>\n",
              "      <td>33.74233128834356</td>\n",
              "      <td>16.56441717791411</td>\n",
              "      <td>31.28834355828221</td>\n",
              "      <td>18.404907975460123</td>\n",
              "      <td>2011</td>\n",
              "      <td>100.0</td>\n",
              "    </tr>\n",
              "    <tr>\n",
              "      <th>2012</th>\n",
              "      <td>44</td>\n",
              "      <td>33</td>\n",
              "      <td>52</td>\n",
              "      <td>35</td>\n",
              "      <td>26.82926829268293</td>\n",
              "      <td>20.121951219512198</td>\n",
              "      <td>31.70731707317073</td>\n",
              "      <td>21.341463414634145</td>\n",
              "      <td>2012</td>\n",
              "      <td>100.0</td>\n",
              "    </tr>\n",
              "    <tr>\n",
              "      <th>2013</th>\n",
              "      <td>71</td>\n",
              "      <td>21</td>\n",
              "      <td>51</td>\n",
              "      <td>23</td>\n",
              "      <td>42.77108433734939</td>\n",
              "      <td>12.650602409638553</td>\n",
              "      <td>30.72289156626506</td>\n",
              "      <td>13.855421686746988</td>\n",
              "      <td>2013</td>\n",
              "      <td>100.0</td>\n",
              "    </tr>\n",
              "    <tr>\n",
              "      <th>2014</th>\n",
              "      <td>64</td>\n",
              "      <td>21</td>\n",
              "      <td>53</td>\n",
              "      <td>25</td>\n",
              "      <td>39.263803680981596</td>\n",
              "      <td>12.883435582822086</td>\n",
              "      <td>32.515337423312886</td>\n",
              "      <td>15.337423312883436</td>\n",
              "      <td>2014</td>\n",
              "      <td>100.0</td>\n",
              "    </tr>\n",
              "    <tr>\n",
              "      <th>2015</th>\n",
              "      <td>45</td>\n",
              "      <td>17</td>\n",
              "      <td>24</td>\n",
              "      <td>14</td>\n",
              "      <td>45.0</td>\n",
              "      <td>17.0</td>\n",
              "      <td>24.0</td>\n",
              "      <td>14.000000000000002</td>\n",
              "      <td>2015</td>\n",
              "      <td>100.0</td>\n",
              "    </tr>\n",
              "  </tbody>\n",
              "</table>\n",
              "</div>"
            ],
            "text/plain": [
              "Occupation  Acting, Comedy & Music  ...          prop_sum\n",
              "Year                                ...                  \n",
              "1999                           150  ...             100.0\n",
              "2000                           125  ...             100.0\n",
              "2001                           114  ... 99.99999999999999\n",
              "2002                            99  ...             100.0\n",
              "2003                            93  ... 99.99999999999999\n",
              "2004                            63  ...             100.0\n",
              "2005                            60  ...             100.0\n",
              "2006                            58  ...             100.0\n",
              "2007                            36  ...             100.0\n",
              "2008                            34  ...             100.0\n",
              "2009                            34  ...             100.0\n",
              "2010                            58  ... 99.99999999999999\n",
              "2011                            55  ...             100.0\n",
              "2012                            44  ...             100.0\n",
              "2013                            71  ...             100.0\n",
              "2014                            64  ...             100.0\n",
              "2015                            45  ...             100.0\n",
              "\n",
              "[17 rows x 10 columns]"
            ]
          },
          "metadata": {
            "tags": []
          },
          "execution_count": 286
        }
      ]
    },
    {
      "cell_type": "markdown",
      "metadata": {
        "id": "-zGohbbC1EI1",
        "colab_type": "text"
      },
      "source": [
        "The above crosstab gives **the percentage of guests from each occupation fo each year of the Daily Show**"
      ]
    },
    {
      "cell_type": "markdown",
      "metadata": {
        "id": "Kiq56dZb92LY",
        "colab_type": "text"
      },
      "source": [
        "### Part 2 — Recreate this explanatory visualization:"
      ]
    },
    {
      "cell_type": "code",
      "metadata": {
        "id": "mx8Lm3lZqqLa",
        "colab_type": "code",
        "colab": {
          "base_uri": "https://localhost:8080/",
          "height": 394
        },
        "outputId": "ee6ef568-76cd-46ca-ed2e-2541ea4c9406"
      },
      "source": [
        "plt.style.use('fivethirtyeight')\n",
        "fig = plt.figure(dpi=300)\n",
        "\n",
        "# Plot line graph\n",
        "ax = tab.plot.line(x='year', y=['ACM Proportion', 'GP Proportion', 'Media Proportion'])\n",
        "\n",
        "# Title\n",
        "ax.text(x=1999, y=110, s=\"Who Got To Be On 'The Daily Show'?\", fontsize=14, fontweight='bold');\n",
        "\n",
        "# Subtitle\n",
        "ax.text(x=1999, y=103, s=\"Occupation of guests, by year\", fontsize=13);\n",
        "\n",
        "# Set x-axis label\n",
        "plt.xlabel(x=.47, y=-1, xlabel=\"Year\", fontsize=12, fontweight=\"bold\", labelpad=15)\n",
        "\n",
        "# Set y-axis label\n",
        "plt.ylabel(x=1, y=.5, ylabel=\"Percent of guests\", fontsize=12, fontweight=\"bold\", labelpad=15)\n",
        "\n",
        "# Legend\n",
        "ax.legend(['Actors, Comedians & Musicians', 'Government & Politicians', 'Media'])"
      ],
      "execution_count": 290,
      "outputs": [
        {
          "output_type": "execute_result",
          "data": {
            "text/plain": [
              "<matplotlib.legend.Legend at 0x7f9bda09d128>"
            ]
          },
          "metadata": {
            "tags": []
          },
          "execution_count": 290
        },
        {
          "output_type": "display_data",
          "data": {
            "text/plain": [
              "<Figure size 1800x1200 with 0 Axes>"
            ]
          },
          "metadata": {
            "tags": []
          }
        },
        {
          "output_type": "display_data",
          "data": {
            "image/png": "[encoded data removed]",
            "text/plain": [
              "<Figure size 432x288 with 1 Axes>"
            ]
          },
          "metadata": {
            "tags": []
          }
        }
      ]
    },
    {
      "cell_type": "code",
      "metadata": {
        "id": "HKLDMWwP98vz",
        "colab_type": "code",
        "outputId": "3bfb7cc6-25fc-4ee3-f558-a4848ccf4b4f",
        "colab": {
          "base_uri": "https://localhost:8080/",
          "height": 406
        }
      },
      "source": [
        "from IPython.display import display, Image\n",
        "png = 'https://fivethirtyeight.com/wp-content/uploads/2015/08/hickey-datalab-dailyshow.png'\n",
        "example = Image(png, width=500)\n",
        "display(example)"
      ],
      "execution_count": 291,
      "outputs": [
        {
          "output_type": "display_data",
          "data": {
            "image/png": "[encoded data removed]",
            "text/plain": [
              "<IPython.core.display.Image object>"
            ]
          },
          "metadata": {
            "tags": [],
            "image/png": {
              "width": 500
            }
          }
        }
      ]
    },
    {
      "cell_type": "markdown",
      "metadata": {
        "id": "TK5fDIag9-F6",
        "colab_type": "text"
      },
      "source": [
        "**Hints:**\n",
        "- You can choose any Python visualization library you want. I've verified the plot can be reproduced with matplotlib, pandas plot, or seaborn. I assume other libraries like altair or plotly would work too.\n",
        "- If you choose to use seaborn, you may want to upgrade the version to 0.9.0.\n",
        "\n",
        "**Expectations:** Your plot should include:\n",
        "- 3 lines visualizing \"occupation of guests, by year.\" The shapes of the lines should look roughly identical to 538's example. Each line should be a different color. (But you don't need to use the _same_ colors as 538.)\n",
        "- Legend or labels for the lines. (But you don't need each label positioned next to its line or colored like 538.)\n",
        "- Title in the upper left: _\"Who Got To Be On 'The Daily Show'?\"_ with more visual emphasis than the subtitle. (Bolder and/or larger font.)\n",
        "- Subtitle underneath the title: _\"Occupation of guests, by year\"_\n",
        "\n",
        "**Optional Bonus Challenge:**\n",
        "- Give your plot polished aesthetics, with improved resemblance to the 538 example.\n",
        "- Any visual element not specifically mentioned in the expectations is an optional bonus."
      ]
    },
    {
      "cell_type": "code",
      "metadata": {
        "id": "CaB8MMV099Kh",
        "colab_type": "code",
        "colab": {}
      },
      "source": [
        ""
      ],
      "execution_count": 0,
      "outputs": []
    },
    {
      "cell_type": "markdown",
      "metadata": {
        "id": "kW36zxl4-BiW",
        "colab_type": "text"
      },
      "source": [
        "### (OPTIONAL) Part 3 — Who were the top 10 guests on _The Daily Show_?\n",
        "\n",
        "*This part is not needed to pass the sprint challenge, only to get a 3! Only work on this after completing the other sections.*\n",
        "\n",
        "**Make a plot** that shows their names and number of appearances.\n",
        "\n",
        "**Add a title** of your choice.\n",
        "\n",
        "**Expectations:** It's ok to make a simple, quick plot: exploratory, instead of explanatory. \n",
        "\n",
        "**Optional Bonus Challenge:** You can change aesthetics and add more annotation. For example, in a relevant location, could you add the text \"19\" to show that Fareed Zakaria appeared 19 times on _The Daily Show_? (And so on, for each of the top 10 guests.)"
      ]
    },
    {
      "cell_type": "code",
      "metadata": {
        "id": "B3cqzskY-QbM",
        "colab_type": "code",
        "colab": {}
      },
      "source": [
        "top_guests = df['Guest'].value_counts().sort_values(ascending=False)[:10]"
      ],
      "execution_count": 0,
      "outputs": []
    },
    {
      "cell_type": "code",
      "metadata": {
        "id": "MxRHfH193L2x",
        "colab_type": "code",
        "colab": {
          "base_uri": "https://localhost:8080/",
          "height": 223
        },
        "outputId": "460edadf-f597-4619-ffb7-a3f55e131890"
      },
      "source": [
        "top_guests"
      ],
      "execution_count": 310,
      "outputs": [
        {
          "output_type": "execute_result",
          "data": {
            "text/plain": [
              "Fareed Zakaria    19\n",
              "Denis Leary       17\n",
              "Brian Williams    16\n",
              "Ricky Gervais     13\n",
              "Paul Rudd         13\n",
              "Tom Brokaw        12\n",
              "Bill O'Reilly     10\n",
              "Reza Aslan        10\n",
              "Will Ferrell      10\n",
              "Richard Lewis     10\n",
              "Name: Guest, dtype: int64"
            ]
          },
          "metadata": {
            "tags": []
          },
          "execution_count": 310
        }
      ]
    },
    {
      "cell_type": "code",
      "metadata": {
        "id": "3wD995tF3NIB",
        "colab_type": "code",
        "colab": {
          "base_uri": "https://localhost:8080/",
          "height": 292
        },
        "outputId": "64bd7d07-7ed5-4f51-f4c0-1681f349c329"
      },
      "source": [
        "ax = sns.barplot(top_guests.index, top_guests.values, alpha = 0.8)\n",
        "\n",
        "plt.xticks(fontsize=5)"
      ],
      "execution_count": 340,
      "outputs": [
        {
          "output_type": "execute_result",
          "data": {
            "text/plain": [
              "(array([0, 1, 2, 3, 4, 5, 6, 7, 8, 9]), <a list of 10 Text xticklabel objects>)"
            ]
          },
          "metadata": {
            "tags": []
          },
          "execution_count": 340
        },
        {
          "output_type": "display_data",
          "data": {
            "image/png": "[encoded data removed]",
            "text/plain": [
              "<Figure size 432x288 with 1 Axes>"
            ]
          },
          "metadata": {
            "tags": []
          }
        }
      ]
    },
    {
      "cell_type": "code",
      "metadata": {
        "id": "9ySVyR-o7H_6",
        "colab_type": "code",
        "colab": {}
      },
      "source": [
        ""
      ],
      "execution_count": 0,
      "outputs": []
    }
  ]
}